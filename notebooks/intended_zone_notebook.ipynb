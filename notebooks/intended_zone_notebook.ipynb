{
 "cells": [
  {
   "cell_type": "code",
   "execution_count": null,
   "metadata": {},
   "outputs": [],
   "source": [
    "# Import required libraries\n",
    "import os\n",
    "import torch\n",
    "import pandas as pd\n",
    "from baseballcv.functions import LoadTools\n",
    "from IPython.display import display\n",
    "import matplotlib.pyplot as plt\n",
    "import seaborn as sns\n",
    "\n",
    "# Import custom IntendedZone class\n",
    "from baseballcv.functions.utils.baseball_utils.intended_zone import IntendedZone\n",
    "\n",
    "# Initialize tools\n",
    "load_tools = LoadTools()\n",
    "\n",
    "# Check available device\n",
    "device = \"cuda\" if torch.cuda.is_available() else \"cpu\"\n",
    "print(f\"Using device: {device}\")\n",
    "\n",
    "# Initialize IntendedZone\n",
    "intended_zone_analyzer = IntendedZone(\n",
    "    catcher_model='phc_detector',\n",
    "    glove_model='glove_tracking', \n",
    "    homeplate_model='glove_tracking',\n",
    "    results_dir=\"intended_zone_results\",\n",
    "    verbose=True,\n",
    "    device=device,\n",
    "    catcher_depth=5.0\n",
    ")\n",
    "\n",
    "# Set parameters\n",
    "start_date = \"2024-09-21\"\n",
    "end_date = \"2024-09-21\"\n",
    "max_videos = 5\n",
    "team_abbr = None\n",
    "player = None\n",
    "pitch_type = None\n",
    "\n",
    "print(f\"Analysis parameters:\")\n",
    "print(f\"- Date range: {start_date} to {end_date}\")\n",
    "print(f\"- Max videos: {max_videos}\")\n",
    "print(f\"- Team filter: {team_abbr if team_abbr else 'All teams'}\")\n",
    "print(f\"- Player filter: {player if player else 'All players'}\")\n",
    "print(f\"- Pitch type filter: {pitch_type if pitch_type else 'All pitch types'}\")\n",
    "\n",
    "# Run\n",
    "results = intended_zone_analyzer.analyze(\n",
    "    start_date=start_date,\n",
    "    end_date=end_date,\n",
    "    team_abbr=team_abbr,\n",
    "    player=player,\n",
    "    pitch_type=pitch_type,\n",
    "    max_videos=max_videos,\n",
    "    save_csv=True,\n",
    "    csv_path=\"intended_zone_results/intended_zone_analysis.csv\"\n",
    ")\n",
    "\n",
    "print(f\"\\nAnalysis complete! Analyzed {len(results)} videos\")"
   ]
  },
  {
   "cell_type": "code",
   "execution_count": null,
   "metadata": {},
   "outputs": [
    {
     "name": "stdout",
     "output_type": "stream",
     "text": [
      "WARNING Unable to automatically guess model task, assuming 'task=detect'. Explicitly define task for your model, i.e. 'task=detect', 'segment', 'classify','pose' or 'obb'.\n",
      "WARNING Unable to automatically guess model task, assuming 'task=detect'. Explicitly define task for your model, i.e. 'task=detect', 'segment', 'classify','pose' or 'obb'.\n"
     ]
    }
   ],
   "source": [
    "from ultralytics import YOLO\n",
    "from baseballcv.functions import LoadTools\n",
    "\n",
    "load_tools = LoadTools()\n",
    "\n",
    "model = YOLO('../models/od/YOLO/glove_tracking/model_weights/glove_tracking_v4_YOLOv11.pt')\n",
    "model = YOLO('../models/od/YOLO/pitcher_hitter_catcher_detector/model_weights/pitcher_hitter_catcher_detector_v4.txt')"
   ]
  },
  {
   "cell_type": "code",
   "execution_count": null,
   "metadata": {},
   "outputs": [],
   "source": []
  }
 ],
 "metadata": {
  "kernelspec": {
   "display_name": "baseball",
   "language": "python",
   "name": "python3"
  },
  "language_info": {
   "codemirror_mode": {
    "name": "ipython",
    "version": 3
   },
   "file_extension": ".py",
   "mimetype": "text/x-python",
   "name": "python",
   "nbconvert_exporter": "python",
   "pygments_lexer": "ipython3",
   "version": "3.12.2"
  },
  "orig_nbformat": 4
 },
 "nbformat": 4,
 "nbformat_minor": 2
}
